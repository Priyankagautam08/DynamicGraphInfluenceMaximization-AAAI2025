{
 "cells": [
  {
   "cell_type": "code",
   "execution_count": 1,
   "metadata": {},
   "outputs": [],
   "source": [
    "import networkx as nx\n",
    "import random\n",
    "import os"
   ]
  },
  {
   "cell_type": "code",
   "execution_count": 30,
   "metadata": {},
   "outputs": [],
   "source": [
    "import networkx as nx\n",
    "import os\n",
    "import random\n",
    "\n",
    "def generate_dynamic_endo_syni(num_initial_nodes=50, num_snapshots=10, num_final_nodes=500, edges_per_snapshot=20, output_dir=\"dynamic_endo_syni\"):\n",
    "    \"\"\"\n",
    "    Generate a dynamic Endo-Syni graph with expansion over multiple snapshots.\n",
    "\n",
    "    Args:\n",
    "        num_initial_nodes (int): Number of nodes in the initial graph.\n",
    "        num_snapshots (int): Number of snapshots to generate.\n",
    "        num_final_nodes (int): Total number of nodes by the final snapshot.\n",
    "        edges_per_snapshot (int): Number of edges to add in each snapshot.\n",
    "        output_dir (str): Directory to save snapshots as GPickle files.\n",
    "    \"\"\"\n",
    "    # Ensure the output directory exists\n",
    "    os.makedirs(output_dir, exist_ok=True)\n",
    "\n",
    "    # Initialize the graph with a small number of nodes and edges\n",
    "    G = nx.Graph()\n",
    "    G.add_nodes_from(range(num_initial_nodes))\n",
    "    for _ in range(num_initial_nodes // 2):\n",
    "        u, v = random.sample(range(num_initial_nodes), 2)\n",
    "        G.add_edge(u, v)\n",
    "\n",
    "    # Save the initial snapshot\n",
    "    filename = os.path.join(output_dir, \"snapshot_0.gpickle\")\n",
    "    nx.write_gpickle(G, filename)\n",
    "    print(f\"Snapshot 0 saved: Nodes = {G.number_of_nodes()}, Edges = {G.number_of_edges()}\")\n",
    "\n",
    "    # Incrementally expand the graph\n",
    "    for snapshot in range(1, num_snapshots):\n",
    "        # Add new nodes\n",
    "        current_nodes = G.number_of_nodes()\n",
    "        new_nodes = int(num_initial_nodes + (num_final_nodes - num_initial_nodes) * snapshot / (num_snapshots - 1))\n",
    "        for node in range(current_nodes, new_nodes):\n",
    "            G.add_node(node)\n",
    "\n",
    "        # Add edges based on Endo-Syni dynamics\n",
    "        for _ in range(edges_per_snapshot):\n",
    "            # Endogenous growth: Preferential attachment (connect to high-degree nodes)\n",
    "            u = random.choices(list(G.nodes), weights=dict(G.degree).values(), k=1)[0]\n",
    "            v = random.choice(list(G.nodes))\n",
    "            if u != v and not G.has_edge(u, v):\n",
    "                G.add_edge(u, v)\n",
    "\n",
    "            # Synergistic dynamics: Connect hubs to each other\n",
    "            hubs = sorted(G.degree, key=lambda x: x[1], reverse=True)[:10]  # Top 10 hubs\n",
    "            if len(hubs) >= 2:\n",
    "                hub_u, hub_v = random.sample([hub[0] for hub in hubs], 2)\n",
    "                if not G.has_edge(hub_u, hub_v):\n",
    "                    G.add_edge(hub_u, hub_v)\n",
    "\n",
    "        # Save the snapshot\n",
    "        filename = os.path.join(output_dir, f\"snapshot_{snapshot}.gpickle\")\n",
    "        try:\n",
    "            nx.write_gpickle(G, filename)\n",
    "            print(f\"Snapshot {snapshot} saved: Nodes = {G.number_of_nodes()}, Edges = {G.number_of_edges()}\")\n",
    "        except Exception as e:\n",
    "            print(f\"Error saving snapshot {snapshot}: {e}\")\n"
   ]
  },
  {
   "cell_type": "code",
   "execution_count": 32,
   "metadata": {},
   "outputs": [
    {
     "name": "stdout",
     "output_type": "stream",
     "text": [
      "Snapshot 0 saved: Nodes = 500, Edges = 250\n",
      "Snapshot 1 saved: Nodes = 541, Edges = 327\n",
      "Snapshot 2 saved: Nodes = 583, Edges = 387\n",
      "Snapshot 3 saved: Nodes = 625, Edges = 441\n",
      "Snapshot 4 saved: Nodes = 666, Edges = 491\n",
      "Snapshot 5 saved: Nodes = 708, Edges = 541\n",
      "Snapshot 6 saved: Nodes = 750, Edges = 590\n",
      "Snapshot 7 saved: Nodes = 791, Edges = 639\n",
      "Snapshot 8 saved: Nodes = 833, Edges = 689\n",
      "Snapshot 9 saved: Nodes = 875, Edges = 739\n",
      "Snapshot 10 saved: Nodes = 916, Edges = 789\n",
      "Snapshot 11 saved: Nodes = 958, Edges = 839\n",
      "Snapshot 12 saved: Nodes = 1000, Edges = 889\n"
     ]
    }
   ],
   "source": [
    "output_dir = \"C:\\\\Priyanka\\\\dynamic-infmax-gnn-lstm\\\\data\\\\endo_syni_snapshots_1000\\\\\"\n",
    "\n",
    "# Generate a dynamic Endo-Syni graph\n",
    "generate_dynamic_endo_syni(\n",
    "    num_initial_nodes=500,\n",
    "    num_snapshots=13,\n",
    "    num_final_nodes=1000,\n",
    "    edges_per_snapshot=50,\n",
    "    output_dir=output_dir\n",
    ")\n"
   ]
  }
 ],
 "metadata": {
  "kernelspec": {
   "display_name": "infmax",
   "language": "python",
   "name": "python3"
  },
  "language_info": {
   "codemirror_mode": {
    "name": "ipython",
    "version": 3
   },
   "file_extension": ".py",
   "mimetype": "text/x-python",
   "name": "python",
   "nbconvert_exporter": "python",
   "pygments_lexer": "ipython3",
   "version": "3.9.16"
  }
 },
 "nbformat": 4,
 "nbformat_minor": 2
}
